{
 "cells": [
  {
   "cell_type": "markdown",
   "metadata": {},
   "source": [
    "# tSNE Exploration Script\n",
    "\n",
    "Using tSNE to see structures in the expression parameters"
   ]
  },
  {
   "cell_type": "code",
   "execution_count": 1,
   "metadata": {},
   "outputs": [],
   "source": [
    "%load_ext autoreload\n",
    "%autoreload 2"
   ]
  },
  {
   "cell_type": "code",
   "execution_count": 2,
   "metadata": {},
   "outputs": [],
   "source": [
    "import numpy as np\n",
    "import matplotlib.pyplot as plt\n",
    "import seaborn as sns\n",
    "import DePa"
   ]
  },
  {
   "cell_type": "markdown",
   "metadata": {},
   "source": [
    "### Getting some batches of information\n",
    "\n",
    "1. Expression\n",
    "2. Shape\n",
    "3. Jaw\n",
    "4. Expression+Jaw\n",
    "5. Expression+Jaw+Shape"
   ]
  },
  {
   "cell_type": "code",
   "execution_count": 3,
   "metadata": {},
   "outputs": [],
   "source": [
    "import torch\n",
    "\n",
    "torch.cuda.empty_cache()"
   ]
  },
  {
   "cell_type": "code",
   "execution_count": 3,
   "metadata": {},
   "outputs": [
    {
     "name": "stdout",
     "output_type": "stream",
     "text": [
      "0\n"
     ]
    },
    {
     "data": {
      "text/plain": [
       "{'tex': tensor([[ 0.0004,  0.0062, -0.0030,  0.0011,  0.0043,  0.0058, -0.0050,  0.0012,\n",
       "          -0.0022,  0.0007,  0.0038, -0.0006,  0.0025,  0.0019,  0.0021,  0.0007,\n",
       "           0.0038,  0.0007,  0.0034, -0.0045,  0.0016,  0.0064, -0.0002, -0.0027,\n",
       "          -0.0029,  0.0034, -0.0068, -0.0070,  0.0051, -0.0029,  0.0051, -0.0056,\n",
       "           0.0048,  0.0018,  0.0044,  0.0028,  0.0014,  0.0114, -0.0100,  0.0062,\n",
       "           0.0037, -0.0003, -0.0022,  0.0036, -0.0029,  0.0023, -0.0018,  0.0036,\n",
       "           0.0053, -0.0047]], device='cuda:0'),\n",
       " 'exp': tensor([[-0.0043, -0.0627,  0.0377,  0.0237, -0.0556, -0.0808, -0.0055, -0.0426,\n",
       "           0.0365,  0.0505, -0.0693,  0.0745,  0.0306, -0.0149,  0.0179, -0.0563,\n",
       "          -0.0928, -0.0025,  0.0014,  0.0772, -0.0161, -0.0388,  0.0429,  0.0179,\n",
       "          -0.0072,  0.0085,  0.0015,  0.0001, -0.0056, -0.0136,  0.0179, -0.0126,\n",
       "           0.0084, -0.0060,  0.0034, -0.0021,  0.0205,  0.0026,  0.0026, -0.0250,\n",
       "          -0.0126,  0.0080, -0.0024, -0.0244, -0.0038,  0.0075,  0.0102, -0.0036,\n",
       "           0.0187,  0.0036]], device='cuda:0'),\n",
       " 'pose': tensor([[ 0.2339, -0.1364,  0.0070,  0.0476,  0.0067, -0.0250]],\n",
       "        device='cuda:0'),\n",
       " 'cam': tensor([[ 9.4909e+00, -2.8735e-04,  4.9243e-02]], device='cuda:0'),\n",
       " 'light': tensor([[[ 0.0834,  0.0834,  0.0910],\n",
       "          [ 0.1247,  0.1259,  0.1269],\n",
       "          [ 0.0892,  0.0806,  0.0780],\n",
       "          [ 0.0606,  0.0600,  0.0579],\n",
       "          [ 0.0525,  0.0610,  0.0533],\n",
       "          [ 0.0115,  0.0136,  0.0122],\n",
       "          [-0.0473, -0.0419, -0.0471],\n",
       "          [ 0.0604,  0.0561,  0.0548],\n",
       "          [-0.1514, -0.1455, -0.1409]]], device='cuda:0'),\n",
       " 'images': tensor([[[[0.0000, 0.0000, 0.0000,  ..., 0.0000, 0.0000, 0.0000],\n",
       "           [0.0000, 0.0000, 0.0000,  ..., 0.0000, 0.0000, 0.0000],\n",
       "           [0.0000, 0.0000, 0.0000,  ..., 0.0000, 0.0000, 0.0000],\n",
       "           ...,\n",
       "           [0.0000, 0.0000, 0.4881,  ..., 0.0000, 0.0000, 0.0000],\n",
       "           [0.0000, 0.0000, 0.5882,  ..., 0.0000, 0.0000, 0.0000],\n",
       "           [0.0000, 0.0000, 0.4650,  ..., 0.0000, 0.0000, 0.0000]],\n",
       " \n",
       "          [[0.0000, 0.0000, 0.0000,  ..., 0.0000, 0.0000, 0.0000],\n",
       "           [0.0000, 0.0000, 0.0000,  ..., 0.0000, 0.0000, 0.0000],\n",
       "           [0.0000, 0.0000, 0.0000,  ..., 0.0000, 0.0000, 0.0000],\n",
       "           ...,\n",
       "           [0.0000, 0.0000, 0.3294,  ..., 0.0000, 0.0000, 0.0000],\n",
       "           [0.0000, 0.0000, 0.4274,  ..., 0.0000, 0.0000, 0.0000],\n",
       "           [0.0000, 0.0000, 0.3167,  ..., 0.0000, 0.0000, 0.0000]],\n",
       " \n",
       "          [[0.0000, 0.0000, 0.0000,  ..., 0.0000, 0.0000, 0.0000],\n",
       "           [0.0000, 0.0000, 0.0000,  ..., 0.0000, 0.0000, 0.0000],\n",
       "           [0.0000, 0.0000, 0.0000,  ..., 0.0000, 0.0000, 0.0000],\n",
       "           ...,\n",
       "           [0.0000, 0.0000, 0.2366,  ..., 0.0000, 0.0000, 0.0000],\n",
       "           [0.0000, 0.0000, 0.3426,  ..., 0.0000, 0.0000, 0.0000],\n",
       "           [0.0000, 0.0000, 0.2340,  ..., 0.0000, 0.0000, 0.0000]]]],\n",
       "        device='cuda:0'),\n",
       " 'detail': tensor([[ 3.1869, -1.4221,  0.2865, -1.9813, -2.3372, -7.0801, -3.6838, -0.4461,\n",
       "           0.0672, -0.3715,  4.0977,  2.9417, -1.3628, -7.3580, -2.0938,  4.2254,\n",
       "           1.4892, -5.7653, -2.9062,  4.0675, -0.6622, -4.2767,  1.6770,  2.8902,\n",
       "          -3.9649, -1.8257, -4.4746, -3.5255,  1.9177, -4.0729,  0.9219,  0.7218,\n",
       "          -1.5893,  0.4519,  3.4152, -3.1784, -1.0455, -2.8501,  3.1656, -0.7215,\n",
       "          -7.0437,  5.2541, -2.8263, -1.2242, -0.1773,  1.3786, -3.8557,  7.7309,\n",
       "          -3.6705,  2.0741,  0.2236,  1.5212, -2.1913,  1.4796, -1.9666,  0.3896,\n",
       "          -1.4077,  0.3649,  4.8849, -0.7191, -0.7826,  2.6011,  1.8236, -2.6746,\n",
       "          -5.0664,  4.8629,  0.2879, -3.6700,  1.7840,  1.7796, -0.6150, -0.9221,\n",
       "           0.8393,  2.7771, -2.2643,  1.0907, -2.8732,  0.9701,  1.5133,  3.0056,\n",
       "           1.2570,  3.6644,  1.3907, -1.4809,  2.5693, -1.1500,  0.6069,  4.8847,\n",
       "           2.9362,  1.9247,  6.5674, -0.1341,  1.9505, -2.3092, -2.3047, -0.2235,\n",
       "          -3.1560, -4.5888, -1.3234,  2.7877,  2.2653,  1.4720,  2.0675, -1.3922,\n",
       "          -2.2549, -4.1446, -0.3510,  1.0425, -2.6404,  1.8118,  5.2397,  0.9762,\n",
       "          -2.3666,  0.1502, -4.0467, -3.6224,  3.4426, -2.9113,  0.0170, -5.0142,\n",
       "           0.1004,  2.7554,  0.5945,  4.8669, -1.3325,  1.1813, -1.2383,  1.0185]],\n",
       "        device='cuda:0')}"
      ]
     },
     "execution_count": 3,
     "metadata": {},
     "output_type": "execute_result"
    }
   ],
   "source": [
    "image_path = \"TestSamples/Brenken_Rudolf/2016-12-06_00-00_Brenken-Rudolf_01/2016-12-06_001.png\"\n",
    "results_path = \"TestResults/Test_brenken_run_deca\"\n",
    "pretrained_modelpath = \"training_results/coarse_mean_shape/model.tar\"\n",
    "\n",
    "DePa.run_deca(image_path, results_path, only_encode=False, wo_shape=True, pretrained_modelpath=pretrained_modelpath)"
   ]
  },
  {
   "cell_type": "code",
   "execution_count": 4,
   "metadata": {},
   "outputs": [
    {
     "name": "stderr",
     "output_type": "stream",
     "text": [
      "WARNING: All log messages before absl::InitializeLog() is called are written to STDERR\n",
      "I0000 00:00:1706093489.401220  112732 gl_context_egl.cc:85] Successfully initialized EGL. Major : 1 Minor: 5\n",
      "I0000 00:00:1706093489.404472  112860 gl_context.cc:344] GL version: 3.2 (OpenGL ES 3.2 Mesa 23.0.4-0ubuntu1~22.04.1), renderer: Mesa Intel(R) HD Graphics 4600 (HSW GT2)\n",
      "INFO: Created TensorFlow Lite XNNPACK delegate for CPU.\n"
     ]
    },
    {
     "name": "stdout",
     "output_type": "stream",
     "text": [
      "Decoupling done\n"
     ]
    },
    {
     "name": "stderr",
     "output_type": "stream",
     "text": [
      "I0000 00:00:1706093504.076559  112732 gl_context_egl.cc:85] Successfully initialized EGL. Major : 1 Minor: 5\n",
      "I0000 00:00:1706093504.077486  112958 gl_context.cc:344] GL version: 3.2 (OpenGL ES 3.2 Mesa 23.0.4-0ubuntu1~22.04.1), renderer: Mesa Intel(R) HD Graphics 4600 (HSW GT2)\n"
     ]
    },
    {
     "name": "stdout",
     "output_type": "stream",
     "text": [
      "Decoupling done\n"
     ]
    },
    {
     "name": "stderr",
     "output_type": "stream",
     "text": [
      "I0000 00:00:1706093519.621287  112732 gl_context_egl.cc:85] Successfully initialized EGL. Major : 1 Minor: 5\n",
      "I0000 00:00:1706093519.622082  113854 gl_context.cc:344] GL version: 3.2 (OpenGL ES 3.2 Mesa 23.0.4-0ubuntu1~22.04.1), renderer: Mesa Intel(R) HD Graphics 4600 (HSW GT2)\n"
     ]
    },
    {
     "name": "stdout",
     "output_type": "stream",
     "text": [
      "Decoupling done\n"
     ]
    },
    {
     "name": "stderr",
     "output_type": "stream",
     "text": [
      "I0000 00:00:1706093534.326002  112732 gl_context_egl.cc:85] Successfully initialized EGL. Major : 1 Minor: 5\n",
      "I0000 00:00:1706093534.326721  113929 gl_context.cc:344] GL version: 3.2 (OpenGL ES 3.2 Mesa 23.0.4-0ubuntu1~22.04.1), renderer: Mesa Intel(R) HD Graphics 4600 (HSW GT2)\n"
     ]
    },
    {
     "name": "stdout",
     "output_type": "stream",
     "text": [
      "Decoupling done\n"
     ]
    },
    {
     "name": "stderr",
     "output_type": "stream",
     "text": [
      "I0000 00:00:1706093548.886862  112732 gl_context_egl.cc:85] Successfully initialized EGL. Major : 1 Minor: 5\n",
      "I0000 00:00:1706093548.888259  113969 gl_context.cc:344] GL version: 3.2 (OpenGL ES 3.2 Mesa 23.0.4-0ubuntu1~22.04.1), renderer: Mesa Intel(R) HD Graphics 4600 (HSW GT2)\n"
     ]
    },
    {
     "name": "stdout",
     "output_type": "stream",
     "text": [
      "Decoupling done\n"
     ]
    },
    {
     "name": "stderr",
     "output_type": "stream",
     "text": [
      "I0000 00:00:1706093563.456516  112732 gl_context_egl.cc:85] Successfully initialized EGL. Major : 1 Minor: 5\n",
      "I0000 00:00:1706093563.457669  114099 gl_context.cc:344] GL version: 3.2 (OpenGL ES 3.2 Mesa 23.0.4-0ubuntu1~22.04.1), renderer: Mesa Intel(R) HD Graphics 4600 (HSW GT2)\n"
     ]
    },
    {
     "name": "stdout",
     "output_type": "stream",
     "text": [
      "Decoupling done\n"
     ]
    },
    {
     "name": "stderr",
     "output_type": "stream",
     "text": [
      "I0000 00:00:1706093578.571961  112732 gl_context_egl.cc:85] Successfully initialized EGL. Major : 1 Minor: 5\n",
      "I0000 00:00:1706093578.572836  114992 gl_context.cc:344] GL version: 3.2 (OpenGL ES 3.2 Mesa 23.0.4-0ubuntu1~22.04.1), renderer: Mesa Intel(R) HD Graphics 4600 (HSW GT2)\n"
     ]
    },
    {
     "name": "stdout",
     "output_type": "stream",
     "text": [
      "Decoupling done\n"
     ]
    },
    {
     "name": "stderr",
     "output_type": "stream",
     "text": [
      "I0000 00:00:1706093593.654967  112732 gl_context_egl.cc:85] Successfully initialized EGL. Major : 1 Minor: 5\n",
      "I0000 00:00:1706093593.656178  115072 gl_context.cc:344] GL version: 3.2 (OpenGL ES 3.2 Mesa 23.0.4-0ubuntu1~22.04.1), renderer: Mesa Intel(R) HD Graphics 4600 (HSW GT2)\n"
     ]
    },
    {
     "name": "stdout",
     "output_type": "stream",
     "text": [
      "Decoupling done\n"
     ]
    },
    {
     "name": "stderr",
     "output_type": "stream",
     "text": [
      "I0000 00:00:1706093608.639659  112732 gl_context_egl.cc:85] Successfully initialized EGL. Major : 1 Minor: 5\n",
      "I0000 00:00:1706093608.640399  115112 gl_context.cc:344] GL version: 3.2 (OpenGL ES 3.2 Mesa 23.0.4-0ubuntu1~22.04.1), renderer: Mesa Intel(R) HD Graphics 4600 (HSW GT2)\n"
     ]
    },
    {
     "name": "stdout",
     "output_type": "stream",
     "text": [
      "Decoupling done\n"
     ]
    },
    {
     "name": "stderr",
     "output_type": "stream",
     "text": [
      "I0000 00:00:1706093623.130388  112732 gl_context_egl.cc:85] Successfully initialized EGL. Major : 1 Minor: 5\n",
      "I0000 00:00:1706093623.131087  115209 gl_context.cc:344] GL version: 3.2 (OpenGL ES 3.2 Mesa 23.0.4-0ubuntu1~22.04.1), renderer: Mesa Intel(R) HD Graphics 4600 (HSW GT2)\n"
     ]
    },
    {
     "name": "stdout",
     "output_type": "stream",
     "text": [
      "Decoupling done\n"
     ]
    },
    {
     "name": "stderr",
     "output_type": "stream",
     "text": [
      "I0000 00:00:1706093638.177853  112732 gl_context_egl.cc:85] Successfully initialized EGL. Major : 1 Minor: 5\n",
      "I0000 00:00:1706093638.178601  116100 gl_context.cc:344] GL version: 3.2 (OpenGL ES 3.2 Mesa 23.0.4-0ubuntu1~22.04.1), renderer: Mesa Intel(R) HD Graphics 4600 (HSW GT2)\n"
     ]
    },
    {
     "name": "stdout",
     "output_type": "stream",
     "text": [
      "Decoupling done\n"
     ]
    },
    {
     "name": "stderr",
     "output_type": "stream",
     "text": [
      "I0000 00:00:1706093652.797916  112732 gl_context_egl.cc:85] Successfully initialized EGL. Major : 1 Minor: 5\n",
      "I0000 00:00:1706093652.798807  116136 gl_context.cc:344] GL version: 3.2 (OpenGL ES 3.2 Mesa 23.0.4-0ubuntu1~22.04.1), renderer: Mesa Intel(R) HD Graphics 4600 (HSW GT2)\n"
     ]
    },
    {
     "name": "stdout",
     "output_type": "stream",
     "text": [
      "Decoupling done\n"
     ]
    },
    {
     "name": "stderr",
     "output_type": "stream",
     "text": [
      "I0000 00:00:1706093666.492041  112732 gl_context_egl.cc:85] Successfully initialized EGL. Major : 1 Minor: 5\n",
      "I0000 00:00:1706093666.492714  116172 gl_context.cc:344] GL version: 3.2 (OpenGL ES 3.2 Mesa 23.0.4-0ubuntu1~22.04.1), renderer: Mesa Intel(R) HD Graphics 4600 (HSW GT2)\n"
     ]
    },
    {
     "name": "stdout",
     "output_type": "stream",
     "text": [
      "Decoupling done\n"
     ]
    },
    {
     "name": "stderr",
     "output_type": "stream",
     "text": [
      "I0000 00:00:1706093680.832738  112732 gl_context_egl.cc:85] Successfully initialized EGL. Major : 1 Minor: 5\n",
      "I0000 00:00:1706093680.834145  116230 gl_context.cc:344] GL version: 3.2 (OpenGL ES 3.2 Mesa 23.0.4-0ubuntu1~22.04.1), renderer: Mesa Intel(R) HD Graphics 4600 (HSW GT2)\n"
     ]
    },
    {
     "name": "stdout",
     "output_type": "stream",
     "text": [
      "Decoupling done\n"
     ]
    },
    {
     "name": "stderr",
     "output_type": "stream",
     "text": [
      "I0000 00:00:1706093697.888514  112732 gl_context_egl.cc:85] Successfully initialized EGL. Major : 1 Minor: 5\n",
      "I0000 00:00:1706093697.889453  117206 gl_context.cc:344] GL version: 3.2 (OpenGL ES 3.2 Mesa 23.0.4-0ubuntu1~22.04.1), renderer: Mesa Intel(R) HD Graphics 4600 (HSW GT2)\n"
     ]
    },
    {
     "name": "stdout",
     "output_type": "stream",
     "text": [
      "Decoupling done\n"
     ]
    },
    {
     "name": "stderr",
     "output_type": "stream",
     "text": [
      "I0000 00:00:1706093713.830286  112732 gl_context_egl.cc:85] Successfully initialized EGL. Major : 1 Minor: 5\n",
      "I0000 00:00:1706093713.831134  117245 gl_context.cc:344] GL version: 3.2 (OpenGL ES 3.2 Mesa 23.0.4-0ubuntu1~22.04.1), renderer: Mesa Intel(R) HD Graphics 4600 (HSW GT2)\n"
     ]
    },
    {
     "name": "stdout",
     "output_type": "stream",
     "text": [
      "Decoupling done\n"
     ]
    },
    {
     "name": "stderr",
     "output_type": "stream",
     "text": [
      "I0000 00:00:1706093726.340233  112732 gl_context_egl.cc:85] Successfully initialized EGL. Major : 1 Minor: 5\n",
      "I0000 00:00:1706093726.340904  117284 gl_context.cc:344] GL version: 3.2 (OpenGL ES 3.2 Mesa 23.0.4-0ubuntu1~22.04.1), renderer: Mesa Intel(R) HD Graphics 4600 (HSW GT2)\n"
     ]
    },
    {
     "name": "stdout",
     "output_type": "stream",
     "text": [
      "Decoupling done\n"
     ]
    },
    {
     "name": "stderr",
     "output_type": "stream",
     "text": [
      "I0000 00:00:1706093739.510896  112732 gl_context_egl.cc:85] Successfully initialized EGL. Major : 1 Minor: 5\n",
      "I0000 00:00:1706093739.511690  117329 gl_context.cc:344] GL version: 3.2 (OpenGL ES 3.2 Mesa 23.0.4-0ubuntu1~22.04.1), renderer: Mesa Intel(R) HD Graphics 4600 (HSW GT2)\n"
     ]
    },
    {
     "name": "stdout",
     "output_type": "stream",
     "text": [
      "Decoupling done\n"
     ]
    },
    {
     "name": "stderr",
     "output_type": "stream",
     "text": [
      "I0000 00:00:1706093756.927726  112732 gl_context_egl.cc:85] Successfully initialized EGL. Major : 1 Minor: 5\n",
      "I0000 00:00:1706093756.928498  118297 gl_context.cc:344] GL version: 3.2 (OpenGL ES 3.2 Mesa 23.0.4-0ubuntu1~22.04.1), renderer: Mesa Intel(R) HD Graphics 4600 (HSW GT2)\n"
     ]
    },
    {
     "name": "stdout",
     "output_type": "stream",
     "text": [
      "Decoupling done\n"
     ]
    },
    {
     "name": "stderr",
     "output_type": "stream",
     "text": [
      "I0000 00:00:1706093773.064069  112732 gl_context_egl.cc:85] Successfully initialized EGL. Major : 1 Minor: 5\n",
      "I0000 00:00:1706093773.065212  118341 gl_context.cc:344] GL version: 3.2 (OpenGL ES 3.2 Mesa 23.0.4-0ubuntu1~22.04.1), renderer: Mesa Intel(R) HD Graphics 4600 (HSW GT2)\n"
     ]
    },
    {
     "name": "stdout",
     "output_type": "stream",
     "text": [
      "Decoupling done\n"
     ]
    },
    {
     "name": "stderr",
     "output_type": "stream",
     "text": [
      "I0000 00:00:1706093788.674042  112732 gl_context_egl.cc:85] Successfully initialized EGL. Major : 1 Minor: 5\n",
      "I0000 00:00:1706093788.675221  118381 gl_context.cc:344] GL version: 3.2 (OpenGL ES 3.2 Mesa 23.0.4-0ubuntu1~22.04.1), renderer: Mesa Intel(R) HD Graphics 4600 (HSW GT2)\n"
     ]
    },
    {
     "name": "stdout",
     "output_type": "stream",
     "text": [
      "Decoupling done\n"
     ]
    },
    {
     "name": "stderr",
     "output_type": "stream",
     "text": [
      "I0000 00:00:1706093802.048111  112732 gl_context_egl.cc:85] Successfully initialized EGL. Major : 1 Minor: 5\n",
      "I0000 00:00:1706093802.048880  118454 gl_context.cc:344] GL version: 3.2 (OpenGL ES 3.2 Mesa 23.0.4-0ubuntu1~22.04.1), renderer: Mesa Intel(R) HD Graphics 4600 (HSW GT2)\n"
     ]
    },
    {
     "name": "stdout",
     "output_type": "stream",
     "text": [
      "Decoupling done\n"
     ]
    },
    {
     "name": "stderr",
     "output_type": "stream",
     "text": [
      "I0000 00:00:1706093814.916589  112732 gl_context_egl.cc:85] Successfully initialized EGL. Major : 1 Minor: 5\n",
      "I0000 00:00:1706093814.917487  119376 gl_context.cc:344] GL version: 3.2 (OpenGL ES 3.2 Mesa 23.0.4-0ubuntu1~22.04.1), renderer: Mesa Intel(R) HD Graphics 4600 (HSW GT2)\n"
     ]
    },
    {
     "name": "stdout",
     "output_type": "stream",
     "text": [
      "Decoupling done\n"
     ]
    }
   ],
   "source": [
    "!CUDA_HOME=$CONDA_PREFIX\n",
    "# Ausgangsverzeichnis\n",
    "base_folder = \"TestSamples/Probanden\"\n",
    "output_base_folder = \"TestResults/Probanden_coarse_mean_shape\"\n",
    "\n",
    "DePa.get_results(base_folder, output_base_folder, pretrained_modelpath=pretrained_modelpath)"
   ]
  },
  {
   "cell_type": "code",
   "execution_count": null,
   "metadata": {},
   "outputs": [],
   "source": [
    "parameters = DePa.get_params(output_base_folder, add_path = \"\")"
   ]
  },
  {
   "cell_type": "code",
   "execution_count": null,
   "metadata": {},
   "outputs": [],
   "source": [
    "shape_params_extract = np.concatenate([parameters[4], parameters[5]], axis=-1)\n",
    "\n",
    "shape_params_one = shape_params_extract[2,:,:]\n",
    "\n",
    "\n",
    "num_vectors = 26\n",
    "\n",
    "distances = np.zeros((num_vectors, num_vectors))\n",
    "for i in range(num_vectors):\n",
    "    for j in range(num_vectors):\n",
    "        distances[i, j] = np.linalg.norm(shape_params_one[i] - shape_params_one[j])\n",
    "\n",
    "# Visualisierung als Heatmap\n",
    "plt.figure(figsize=(8, 6))\n",
    "sns.heatmap(distances, annot=True, cmap=\"YlGnBu\", xticklabels=range(1, num_vectors+1), yticklabels=range(1, num_vectors+1))\n",
    "plt.title('Euklidische Abstände zwischen den Vektoren')\n",
    "plt.xlabel('Vektor-Index')\n",
    "plt.ylabel('Vektor-Index')\n",
    "plt.show()"
   ]
  },
  {
   "cell_type": "markdown",
   "metadata": {},
   "source": [
    "Expressionscluster"
   ]
  },
  {
   "cell_type": "code",
   "execution_count": null,
   "metadata": {},
   "outputs": [],
   "source": [
    "indices = [0, 1, 2, 3, 4, 5, 6, 7, 8]\n",
    "\n",
    "expressionnames = [\"Neutral\", \"Augen zu\", \"Augen doll zu\", \"Stirn runzeln\", \"Nase rümpfen\", \"Lächeln\", \"Lächeln doll\", \"Mund spitzen\", \"Mundwinkel runter\"]\n",
    "\n",
    "DePa.visualization_exp_shape(indices, expressionnames, parameters)"
   ]
  }
 ],
 "metadata": {
  "kernelspec": {
   "display_name": "deca",
   "language": "python",
   "name": "python3"
  },
  "language_info": {
   "codemirror_mode": {
    "name": "ipython",
    "version": 3
   },
   "file_extension": ".py",
   "mimetype": "text/x-python",
   "name": "python",
   "nbconvert_exporter": "python",
   "pygments_lexer": "ipython3",
   "version": "3.9.18"
  }
 },
 "nbformat": 4,
 "nbformat_minor": 2
}
