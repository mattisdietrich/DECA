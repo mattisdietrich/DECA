{
 "cells": [
  {
   "cell_type": "markdown",
   "metadata": {},
   "source": [
    "# tSNE Exploration Script\n",
    "\n",
    "Using tSNE to see structures in the expression parameters"
   ]
  },
  {
   "cell_type": "code",
   "execution_count": null,
   "metadata": {},
   "outputs": [],
   "source": [
    "%load_ext autoreload\n",
    "%autoreload 2"
   ]
  },
  {
   "cell_type": "code",
   "execution_count": null,
   "metadata": {},
   "outputs": [],
   "source": [
    "import numpy as np\n",
    "import matplotlib.pyplot as plt\n",
    "import seaborn as sns\n",
    "import DePa"
   ]
  },
  {
   "cell_type": "markdown",
   "metadata": {},
   "source": [
    "### Getting some batches of information\n",
    "\n",
    "1. Expression\n",
    "2. Shape\n",
    "3. Jaw\n",
    "4. Expression+Jaw\n",
    "5. Expression+Jaw+Shape"
   ]
  },
  {
   "cell_type": "code",
   "execution_count": null,
   "metadata": {},
   "outputs": [],
   "source": [
    "import torch\n",
    "\n",
    "torch.cuda.empty_cache()"
   ]
  },
  {
   "cell_type": "code",
   "execution_count": null,
   "metadata": {},
   "outputs": [],
   "source": [
    "!CUDA_HOME=$CONDA_PREFIX\n",
    "\n",
    "pretrained_modelpath = \"training_results/coarse_shape_per_img/model.tar\"\n",
    "# Ausgangsverzeichnis\n",
    "base_folder = \"TestSamples/Probanden\"\n",
    "output_base_folder = \"TestResults/Probanden_coarse_mean_shape\"\n",
    "\n",
    "DePa.get_results(base_folder, output_base_folder, pretrained_modelpath=pretrained_modelpath)"
   ]
  },
  {
   "cell_type": "code",
   "execution_count": 3,
   "metadata": {},
   "outputs": [
    {
     "name": "stdout",
     "output_type": "stream",
     "text": [
      "Anzahl Aufnahmen: 27\n",
      "Anzahl Max Expressionen: 9\n",
      "2\n"
     ]
    }
   ],
   "source": [
    "parameters = DePa.get_params(output_base_folder, add_path = \"_dec\")"
   ]
  },
  {
   "cell_type": "markdown",
   "metadata": {},
   "source": [
    "Expressionscluster"
   ]
  },
  {
   "cell_type": "code",
   "execution_count": 4,
   "metadata": {},
   "outputs": [
    {
     "data": {
      "application/vnd.jupyter.widget-view+json": {
       "model_id": "b9323e9331744423bba8d3d4ed5ab0ef",
       "version_major": 2,
       "version_minor": 0
      },
      "text/plain": [
       "interactive(children=(IntSlider(value=5, description='Perplexity 1:', max=50, min=1), IntSlider(value=5, descr…"
      ]
     },
     "metadata": {},
     "output_type": "display_data"
    }
   ],
   "source": [
    "indices = [0, 1, 2, 3, 4, 5, 6, 7, 8]\n",
    "\n",
    "expressionnames = [\"Neutral\", \"Augen zu\", \"Augen doll zu\", \"Stirn runzeln\", \"Nase rümpfen\", \"Lächeln\", \"Lächeln doll\", \"Mund spitzen\", \"Mundwinkel runter\"]\n",
    "\n",
    "DePa.visualization_exp_shape(indices, expressionnames, parameters)"
   ]
  }
 ],
 "metadata": {
  "kernelspec": {
   "display_name": "deca",
   "language": "python",
   "name": "python3"
  },
  "language_info": {
   "codemirror_mode": {
    "name": "ipython",
    "version": 3
   },
   "file_extension": ".py",
   "mimetype": "text/x-python",
   "name": "python",
   "nbconvert_exporter": "python",
   "pygments_lexer": "ipython3",
   "version": "3.9.18"
  }
 },
 "nbformat": 4,
 "nbformat_minor": 2
}
