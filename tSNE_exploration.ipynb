{
 "cells": [
  {
   "cell_type": "markdown",
   "metadata": {},
   "source": [
    "# tSNE Exploration Script\n",
    "\n",
    "Using tSNE to see structures in the expression parameters"
   ]
  },
  {
   "cell_type": "code",
   "execution_count": null,
   "metadata": {},
   "outputs": [],
   "source": [
    "%load_ext autoreload\n",
    "%autoreload 2"
   ]
  },
  {
   "cell_type": "code",
   "execution_count": 1,
   "metadata": {},
   "outputs": [],
   "source": [
    "import helpers\n",
    "import numpy as np\n",
    "import matplotlib.pyplot as plt\n",
    "import seaborn as sns\n",
    "import DePa"
   ]
  },
  {
   "cell_type": "markdown",
   "metadata": {},
   "source": [
    "### Getting some batches of information\n",
    "\n",
    "1. Expression\n",
    "2. Shape\n",
    "3. Jaw\n",
    "4. Expression+Jaw\n",
    "5. Expression+Jaw+Shape"
   ]
  },
  {
   "cell_type": "code",
   "execution_count": 3,
   "metadata": {},
   "outputs": [],
   "source": [
    "import torch\n",
    "\n",
    "torch.cuda.empty_cache()"
   ]
  },
  {
   "cell_type": "code",
   "execution_count": 3,
   "metadata": {},
   "outputs": [
    {
     "name": "stderr",
     "output_type": "stream",
     "text": [
      "I0000 00:00:1706021523.448202  326605 gl_context_egl.cc:85] Successfully initialized EGL. Major : 1 Minor: 5\n",
      "I0000 00:00:1706021523.449137  328689 gl_context.cc:344] GL version: 3.2 (OpenGL ES 3.2 Mesa 23.0.4-0ubuntu1~22.04.1), renderer: Mesa Intel(R) HD Graphics 4600 (HSW GT2)\n"
     ]
    },
    {
     "name": "stdout",
     "output_type": "stream",
     "text": [
      "Decoupling done\n"
     ]
    },
    {
     "ename": "KeyboardInterrupt",
     "evalue": "",
     "output_type": "error",
     "traceback": [
      "\u001b[0;31m---------------------------------------------------------------------------\u001b[0m",
      "\u001b[0;31mKeyboardInterrupt\u001b[0m                         Traceback (most recent call last)",
      "\u001b[1;32m/home/dietrich/Testing/DECA/DECA/tSNE_exploration.ipynb Cell 6\u001b[0m line \u001b[0;36m1\n\u001b[1;32m      <a href='vscode-notebook-cell:/home/dietrich/Testing/DECA/DECA/tSNE_exploration.ipynb#X11sZmlsZQ%3D%3D?line=7'>8</a>\u001b[0m output_base_folder \u001b[39m=\u001b[39m \u001b[39m\"\u001b[39m\u001b[39mTestResults/Probanden_coarse_mean_shape\u001b[39m\u001b[39m\"\u001b[39m\n\u001b[1;32m      <a href='vscode-notebook-cell:/home/dietrich/Testing/DECA/DECA/tSNE_exploration.ipynb#X11sZmlsZQ%3D%3D?line=8'>9</a>\u001b[0m pretrained_modelpath \u001b[39m=\u001b[39m \u001b[39m\"\u001b[39m\u001b[39mtraining_results/coarse_mean_shape/model.tar\u001b[39m\u001b[39m\"\u001b[39m\n\u001b[0;32m---> <a href='vscode-notebook-cell:/home/dietrich/Testing/DECA/DECA/tSNE_exploration.ipynb#X11sZmlsZQ%3D%3D?line=10'>11</a>\u001b[0m DePa\u001b[39m.\u001b[39;49mget_results(base_folder, output_base_folder, pretrained_modelpath\u001b[39m=\u001b[39;49mpretrained_modelpath)\n",
      "File \u001b[0;32m~/Testing/DECA/DECA/DePa.py:268\u001b[0m, in \u001b[0;36mget_results\u001b[0;34m(base_folder, output_base_folder, get_visual, pretrained_modelpath)\u001b[0m\n\u001b[1;32m    265\u001b[0m     decode_wo_shape(fn \u001b[39m+\u001b[39m \u001b[39m\"\u001b[39m\u001b[39m_left_\u001b[39m\u001b[39m\"\u001b[39m, left_mir, result_path)\n\u001b[1;32m    266\u001b[0m     decode_wo_shape(fn \u001b[39m+\u001b[39m \u001b[39m\"\u001b[39m\u001b[39m_right_\u001b[39m\u001b[39m\"\u001b[39m, right_mir, result_path)\n\u001b[0;32m--> 268\u001b[0m left_shape \u001b[39m=\u001b[39m encode(left_mir)\n\u001b[1;32m    269\u001b[0m right_shape \u001b[39m=\u001b[39m encode(right_mir)\n\u001b[1;32m    271\u001b[0m left_codedict \u001b[39m=\u001b[39m encode_wo_shape(left_mir, pretrained_modelpath)\n",
      "File \u001b[0;32m~/Testing/DECA/DECA/DePa.py:69\u001b[0m, in \u001b[0;36mencode\u001b[0;34m(image_path, model_path)\u001b[0m\n\u001b[1;32m     66\u001b[0m testdata__ \u001b[39m=\u001b[39m datasets\u001b[39m.\u001b[39mTestData(image_path)\n\u001b[1;32m     68\u001b[0m \u001b[39mfor\u001b[39;00m i \u001b[39min\u001b[39;00m \u001b[39mrange\u001b[39m(\u001b[39mlen\u001b[39m(image_path)):\n\u001b[0;32m---> 69\u001b[0m     imgs_batch \u001b[39m=\u001b[39m testdata__[\u001b[39m0\u001b[39;49m][\u001b[39m'\u001b[39m\u001b[39mimage\u001b[39m\u001b[39m'\u001b[39m]\u001b[39m.\u001b[39mto(\u001b[39m'\u001b[39m\u001b[39mcuda\u001b[39m\u001b[39m'\u001b[39m)[\u001b[39mNone\u001b[39;00m,\u001b[39m.\u001b[39m\u001b[39m.\u001b[39m\u001b[39m.\u001b[39m]\n\u001b[1;32m     70\u001b[0m     \u001b[39mwith\u001b[39;00m torch\u001b[39m.\u001b[39mno_grad():\n\u001b[1;32m     71\u001b[0m             parameters \u001b[39m=\u001b[39m E_flame(imgs_batch)\n",
      "File \u001b[0;32m~/Testing/DECA/DECA/decalib/datasets/datasets.py:97\u001b[0m, in \u001b[0;36mTestData.__getitem__\u001b[0;34m(self, index)\u001b[0m\n\u001b[1;32m     95\u001b[0m imagepath \u001b[39m=\u001b[39m \u001b[39mself\u001b[39m\u001b[39m.\u001b[39mimagepath_list[index]\n\u001b[1;32m     96\u001b[0m imagename \u001b[39m=\u001b[39m os\u001b[39m.\u001b[39mpath\u001b[39m.\u001b[39msplitext(os\u001b[39m.\u001b[39mpath\u001b[39m.\u001b[39msplit(imagepath)[\u001b[39m-\u001b[39m\u001b[39m1\u001b[39m])[\u001b[39m0\u001b[39m]\n\u001b[0;32m---> 97\u001b[0m image \u001b[39m=\u001b[39m np\u001b[39m.\u001b[39marray(imread(imagepath))\n\u001b[1;32m     98\u001b[0m \u001b[39mif\u001b[39;00m \u001b[39mlen\u001b[39m(image\u001b[39m.\u001b[39mshape) \u001b[39m==\u001b[39m \u001b[39m2\u001b[39m:\n\u001b[1;32m     99\u001b[0m     image \u001b[39m=\u001b[39m image[:,:,\u001b[39mNone\u001b[39;00m]\u001b[39m.\u001b[39mrepeat(\u001b[39m1\u001b[39m,\u001b[39m1\u001b[39m,\u001b[39m3\u001b[39m)\n",
      "File \u001b[0;32m~/miniconda3/envs/deca/lib/python3.9/site-packages/skimage/io/_io.py:53\u001b[0m, in \u001b[0;36mimread\u001b[0;34m(fname, as_gray, plugin, **plugin_args)\u001b[0m\n\u001b[1;32m     50\u001b[0m         plugin \u001b[39m=\u001b[39m \u001b[39m'\u001b[39m\u001b[39mtifffile\u001b[39m\u001b[39m'\u001b[39m\n\u001b[1;32m     52\u001b[0m \u001b[39mwith\u001b[39;00m file_or_url_context(fname) \u001b[39mas\u001b[39;00m fname:\n\u001b[0;32m---> 53\u001b[0m     img \u001b[39m=\u001b[39m call_plugin(\u001b[39m'\u001b[39;49m\u001b[39mimread\u001b[39;49m\u001b[39m'\u001b[39;49m, fname, plugin\u001b[39m=\u001b[39;49mplugin, \u001b[39m*\u001b[39;49m\u001b[39m*\u001b[39;49mplugin_args)\n\u001b[1;32m     55\u001b[0m \u001b[39mif\u001b[39;00m \u001b[39mnot\u001b[39;00m \u001b[39mhasattr\u001b[39m(img, \u001b[39m'\u001b[39m\u001b[39mndim\u001b[39m\u001b[39m'\u001b[39m):\n\u001b[1;32m     56\u001b[0m     \u001b[39mreturn\u001b[39;00m img\n",
      "File \u001b[0;32m~/miniconda3/envs/deca/lib/python3.9/site-packages/skimage/io/manage_plugins.py:205\u001b[0m, in \u001b[0;36mcall_plugin\u001b[0;34m(kind, *args, **kwargs)\u001b[0m\n\u001b[1;32m    202\u001b[0m     \u001b[39mexcept\u001b[39;00m \u001b[39mIndexError\u001b[39;00m:\n\u001b[1;32m    203\u001b[0m         \u001b[39mraise\u001b[39;00m \u001b[39mRuntimeError\u001b[39;00m(\u001b[39mf\u001b[39m\u001b[39m'\u001b[39m\u001b[39mCould not find the plugin \u001b[39m\u001b[39m\"\u001b[39m\u001b[39m{\u001b[39;00mplugin\u001b[39m}\u001b[39;00m\u001b[39m\"\u001b[39m\u001b[39m for \u001b[39m\u001b[39m{\u001b[39;00mkind\u001b[39m}\u001b[39;00m\u001b[39m.\u001b[39m\u001b[39m'\u001b[39m)\n\u001b[0;32m--> 205\u001b[0m \u001b[39mreturn\u001b[39;00m func(\u001b[39m*\u001b[39;49margs, \u001b[39m*\u001b[39;49m\u001b[39m*\u001b[39;49mkwargs)\n",
      "File \u001b[0;32m~/miniconda3/envs/deca/lib/python3.9/site-packages/skimage/io/_plugins/imageio_plugin.py:11\u001b[0m, in \u001b[0;36mimread\u001b[0;34m(*args, **kwargs)\u001b[0m\n\u001b[1;32m      9\u001b[0m \u001b[39m@wraps\u001b[39m(imageio_imread)\n\u001b[1;32m     10\u001b[0m \u001b[39mdef\u001b[39;00m \u001b[39mimread\u001b[39m(\u001b[39m*\u001b[39margs, \u001b[39m*\u001b[39m\u001b[39m*\u001b[39mkwargs):\n\u001b[0;32m---> 11\u001b[0m     out \u001b[39m=\u001b[39m np\u001b[39m.\u001b[39masarray(imageio_imread(\u001b[39m*\u001b[39;49margs, \u001b[39m*\u001b[39;49m\u001b[39m*\u001b[39;49mkwargs))\n\u001b[1;32m     12\u001b[0m     \u001b[39mif\u001b[39;00m \u001b[39mnot\u001b[39;00m out\u001b[39m.\u001b[39mflags[\u001b[39m'\u001b[39m\u001b[39mWRITEABLE\u001b[39m\u001b[39m'\u001b[39m]:\n\u001b[1;32m     13\u001b[0m         out \u001b[39m=\u001b[39m out\u001b[39m.\u001b[39mcopy()\n",
      "File \u001b[0;32m~/miniconda3/envs/deca/lib/python3.9/site-packages/imageio/v3.py:54\u001b[0m, in \u001b[0;36mimread\u001b[0;34m(uri, index, plugin, extension, format_hint, **kwargs)\u001b[0m\n\u001b[1;32m     51\u001b[0m     call_kwargs[\u001b[39m\"\u001b[39m\u001b[39mindex\u001b[39m\u001b[39m\"\u001b[39m] \u001b[39m=\u001b[39m index\n\u001b[1;32m     53\u001b[0m \u001b[39mwith\u001b[39;00m imopen(uri, \u001b[39m\"\u001b[39m\u001b[39mr\u001b[39m\u001b[39m\"\u001b[39m, \u001b[39m*\u001b[39m\u001b[39m*\u001b[39mplugin_kwargs) \u001b[39mas\u001b[39;00m img_file:\n\u001b[0;32m---> 54\u001b[0m     \u001b[39mreturn\u001b[39;00m np\u001b[39m.\u001b[39masarray(img_file\u001b[39m.\u001b[39;49mread(\u001b[39m*\u001b[39;49m\u001b[39m*\u001b[39;49mcall_kwargs))\n",
      "File \u001b[0;32m~/miniconda3/envs/deca/lib/python3.9/site-packages/imageio/plugins/pillow.py:252\u001b[0m, in \u001b[0;36mPillowPlugin.read\u001b[0;34m(self, index, mode, rotate, apply_gamma, writeable_output, pilmode, exifrotate, as_gray)\u001b[0m\n\u001b[1;32m    249\u001b[0m \u001b[39mif\u001b[39;00m \u001b[39misinstance\u001b[39m(index, \u001b[39mint\u001b[39m):\n\u001b[1;32m    250\u001b[0m     \u001b[39m# will raise IO error if index >= number of frames in image\u001b[39;00m\n\u001b[1;32m    251\u001b[0m     \u001b[39mself\u001b[39m\u001b[39m.\u001b[39m_image\u001b[39m.\u001b[39mseek(index)\n\u001b[0;32m--> 252\u001b[0m     image \u001b[39m=\u001b[39m \u001b[39mself\u001b[39;49m\u001b[39m.\u001b[39;49m_apply_transforms(\n\u001b[1;32m    253\u001b[0m         \u001b[39mself\u001b[39;49m\u001b[39m.\u001b[39;49m_image, mode, rotate, apply_gamma, writeable_output\n\u001b[1;32m    254\u001b[0m     )\n\u001b[1;32m    255\u001b[0m \u001b[39melse\u001b[39;00m:\n\u001b[1;32m    256\u001b[0m     iterator \u001b[39m=\u001b[39m \u001b[39mself\u001b[39m\u001b[39m.\u001b[39miter(\n\u001b[1;32m    257\u001b[0m         mode\u001b[39m=\u001b[39mmode,\n\u001b[1;32m    258\u001b[0m         rotate\u001b[39m=\u001b[39mrotate,\n\u001b[1;32m    259\u001b[0m         apply_gamma\u001b[39m=\u001b[39mapply_gamma,\n\u001b[1;32m    260\u001b[0m         writeable_output\u001b[39m=\u001b[39mwriteable_output,\n\u001b[1;32m    261\u001b[0m     )\n",
      "File \u001b[0;32m~/miniconda3/envs/deca/lib/python3.9/site-packages/imageio/plugins/pillow.py:333\u001b[0m, in \u001b[0;36mPillowPlugin._apply_transforms\u001b[0;34m(self, image, mode, rotate, apply_gamma, writeable_output)\u001b[0m\n\u001b[1;32m    329\u001b[0m     \u001b[39melse\u001b[39;00m:\n\u001b[1;32m    330\u001b[0m         \u001b[39m# pillow >= 10.1.0\u001b[39;00m\n\u001b[1;32m    331\u001b[0m         image \u001b[39m=\u001b[39m image\u001b[39m.\u001b[39mconvert(desired_mode)\n\u001b[0;32m--> 333\u001b[0m image \u001b[39m=\u001b[39m np\u001b[39m.\u001b[39;49masarray(image)\n\u001b[1;32m    335\u001b[0m meta \u001b[39m=\u001b[39m \u001b[39mself\u001b[39m\u001b[39m.\u001b[39mmetadata(index\u001b[39m=\u001b[39m\u001b[39mself\u001b[39m\u001b[39m.\u001b[39m_image\u001b[39m.\u001b[39mtell(), exclude_applied\u001b[39m=\u001b[39m\u001b[39mFalse\u001b[39;00m)\n\u001b[1;32m    336\u001b[0m \u001b[39mif\u001b[39;00m rotate \u001b[39mand\u001b[39;00m \u001b[39m\"\u001b[39m\u001b[39mOrientation\u001b[39m\u001b[39m\"\u001b[39m \u001b[39min\u001b[39;00m meta:\n",
      "File \u001b[0;32m~/miniconda3/envs/deca/lib/python3.9/site-packages/PIL/Image.py:673\u001b[0m, in \u001b[0;36mImage.__array_interface__\u001b[0;34m(self)\u001b[0m\n\u001b[1;32m    671\u001b[0m         new[\u001b[39m\"\u001b[39m\u001b[39mdata\u001b[39m\u001b[39m\"\u001b[39m] \u001b[39m=\u001b[39m \u001b[39mself\u001b[39m\u001b[39m.\u001b[39mtobytes(\u001b[39m\"\u001b[39m\u001b[39mraw\u001b[39m\u001b[39m\"\u001b[39m, \u001b[39m\"\u001b[39m\u001b[39mL\u001b[39m\u001b[39m\"\u001b[39m)\n\u001b[1;32m    672\u001b[0m     \u001b[39melse\u001b[39;00m:\n\u001b[0;32m--> 673\u001b[0m         new[\u001b[39m\"\u001b[39m\u001b[39mdata\u001b[39m\u001b[39m\"\u001b[39m] \u001b[39m=\u001b[39m \u001b[39mself\u001b[39;49m\u001b[39m.\u001b[39;49mtobytes()\n\u001b[1;32m    674\u001b[0m \u001b[39mexcept\u001b[39;00m \u001b[39mException\u001b[39;00m \u001b[39mas\u001b[39;00m e:\n\u001b[1;32m    675\u001b[0m     \u001b[39mif\u001b[39;00m \u001b[39mnot\u001b[39;00m \u001b[39misinstance\u001b[39m(e, (\u001b[39mMemoryError\u001b[39;00m, \u001b[39mRecursionError\u001b[39;00m)):\n",
      "File \u001b[0;32m~/miniconda3/envs/deca/lib/python3.9/site-packages/PIL/Image.py:745\u001b[0m, in \u001b[0;36mImage.tobytes\u001b[0;34m(self, encoder_name, *args)\u001b[0m\n\u001b[1;32m    743\u001b[0m output \u001b[39m=\u001b[39m []\n\u001b[1;32m    744\u001b[0m \u001b[39mwhile\u001b[39;00m \u001b[39mTrue\u001b[39;00m:\n\u001b[0;32m--> 745\u001b[0m     bytes_consumed, errcode, data \u001b[39m=\u001b[39m e\u001b[39m.\u001b[39;49mencode(bufsize)\n\u001b[1;32m    746\u001b[0m     output\u001b[39m.\u001b[39mappend(data)\n\u001b[1;32m    747\u001b[0m     \u001b[39mif\u001b[39;00m errcode:\n",
      "\u001b[0;31mKeyboardInterrupt\u001b[0m: "
     ]
    }
   ],
   "source": [
    "!CUDA_HOME=$CONDA_PREFIX\n",
    "# Ausgangsverzeichnis\n",
    "base_folder = \"TestSamples/Probanden\"\n",
    "output_base_folder = \"TestResults/Probanden_coarse_mean_shape\"\n",
    "pretrained_modelpath = \"training_results/coarse_mean_shape/model.tar\"\n",
    "\n",
    "DePa.get_results(base_folder, output_base_folder, pretrained_modelpath=pretrained_modelpath)"
   ]
  },
  {
   "cell_type": "code",
   "execution_count": null,
   "metadata": {},
   "outputs": [],
   "source": [
    "parameters = helpers.get_params(output_base_folder, add_path = \"\")"
   ]
  },
  {
   "cell_type": "code",
   "execution_count": null,
   "metadata": {},
   "outputs": [],
   "source": [
    "shape_params_extract = np.concatenate([parameters[4], parameters[5]], axis=-1)\n",
    "\n",
    "shape_params_one = shape_params_extract[2,:,:]\n",
    "\n",
    "\n",
    "num_vectors = 26\n",
    "\n",
    "distances = np.zeros((num_vectors, num_vectors))\n",
    "for i in range(num_vectors):\n",
    "    for j in range(num_vectors):\n",
    "        distances[i, j] = np.linalg.norm(shape_params_one[i] - shape_params_one[j])\n",
    "\n",
    "# Visualisierung als Heatmap\n",
    "plt.figure(figsize=(8, 6))\n",
    "sns.heatmap(distances, annot=True, cmap=\"YlGnBu\", xticklabels=range(1, num_vectors+1), yticklabels=range(1, num_vectors+1))\n",
    "plt.title('Euklidische Abstände zwischen den Vektoren')\n",
    "plt.xlabel('Vektor-Index')\n",
    "plt.ylabel('Vektor-Index')\n",
    "plt.show()"
   ]
  },
  {
   "cell_type": "markdown",
   "metadata": {},
   "source": [
    "Expressionscluster"
   ]
  },
  {
   "cell_type": "code",
   "execution_count": null,
   "metadata": {},
   "outputs": [],
   "source": [
    "indices = [0, 1, 2, 3, 4, 5, 6, 7, 8]\n",
    "\n",
    "expressionnames = [\"Neutral\", \"Augen zu\", \"Augen doll zu\", \"Stirn runzeln\", \"Nase rümpfen\", \"Lächeln\", \"Lächeln doll\", \"Mund spitzen\", \"Mundwinkel runter\"]\n",
    "\n",
    "helpers.visualization_exp_shape(indices, expressionnames, parameters)"
   ]
  }
 ],
 "metadata": {
  "kernelspec": {
   "display_name": "deca",
   "language": "python",
   "name": "python3"
  },
  "language_info": {
   "codemirror_mode": {
    "name": "ipython",
    "version": 3
   },
   "file_extension": ".py",
   "mimetype": "text/x-python",
   "name": "python",
   "nbconvert_exporter": "python",
   "pygments_lexer": "ipython3",
   "version": "3.9.18"
  }
 },
 "nbformat": 4,
 "nbformat_minor": 2
}
