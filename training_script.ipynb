{
 "cells": [
  {
   "cell_type": "markdown",
   "metadata": {},
   "source": [
    "# Script for training with decoupled shape parameters"
   ]
  },
  {
   "cell_type": "code",
   "execution_count": null,
   "metadata": {},
   "outputs": [],
   "source": [
    "from decalib.deca import DECA\n",
    "from decalib.datasets import datasets \n",
    "from decalib.utils import util\n",
    "from decalib.utils.config import config_default as deca_cfg\n",
    "from skimage.io import imread\n",
    "from tqdm import tqdm\n",
    "import torch\n",
    "import numpy as np\n",
    "import mediapipe as mp\n",
    "import os\n",
    "import cv2\n",
    "import trimesh\n",
    "import matplotlib.pyplot as plt"
   ]
  },
  {
   "cell_type": "code",
   "execution_count": null,
   "metadata": {},
   "outputs": [],
   "source": [
    "def get_shape_params(image_path: str, device='cuda'):\n",
    "    \"\"\"Function for getting the shape paramters of an image\n",
    "    \"\"\"\n",
    "    # Initialization\n",
    "    deca = DECA()\n",
    "\n",
    "    #Get the data in the right format\n",
    "    test_img = datasets.TestData(image_path)\n",
    "    deca_cfg.model.use_tex = False\n",
    "    deca_cfg.model.extract_tex = False\n",
    "    #Get the codedictionarys\n",
    "    for i in tqdm(range(len(test_img))):\n",
    "        name = test_img[i]['imagename']\n",
    "        images_l = test_img[i]['image'].to(device)[None,...]\n",
    "        with torch.no_grad(): \n",
    "            codedict = deca.encode(images_l)\n",
    "\n",
    "    return codedict['shape']"
   ]
  }
 ],
 "metadata": {
  "kernelspec": {
   "display_name": "deca",
   "language": "python",
   "name": "python3"
  },
  "language_info": {
   "name": "python",
   "version": "3.9.18"
  }
 },
 "nbformat": 4,
 "nbformat_minor": 2
}
